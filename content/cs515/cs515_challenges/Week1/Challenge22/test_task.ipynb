{
 "cells": [
  {
   "cell_type": "code",
   "execution_count": null,
   "metadata": {},
   "outputs": [],
   "source": [
    "import unittest\n",
    "import task\n",
    "import sys\n",
    "\n",
    "sys.path.append('Challenge22/')\n",
    "\n",
    "def defined(name):\n",
    "    assert name in dir(task), f\"Couldn't find a definition for {name}\"\n",
    "\n",
    "class TaskTest(unittest.TestCase):\n",
    "    def test_defined(self):\n",
    "        print(\"good\")\n",
    "        defined('counter')\n",
    "\n",
    "    def correct(self, expected_count):\n",
    "        self.assertEqual(task.count, expected_count)\n",
    "    def test_sample0(self):\n",
    "        self.correct(0)\n",
    "    def test_sample1(self):\n",
    "        task.counter()\n",
    "        self.correct(1)\n",
    "    def test_sample2(self):\n",
    "        task.counter()\n",
    "        self.correct(2)\n",
    "    def test_sample3(self):\n",
    "        task.counter()\n",
    "        task.counter()\n",
    "        task.counter()\n",
    "        self.correct(5)\n",
    "\n",
    "        \n",
    "\n",
    "if __name__ == '__main__':\n",
    "    unittest.main(argv=['-v'],verbosity=2, exit=False)"
   ]
  }
 ],
 "metadata": {
  "language_info": {
   "name": "python"
  },
  "orig_nbformat": 4
 },
 "nbformat": 4,
 "nbformat_minor": 2
}
