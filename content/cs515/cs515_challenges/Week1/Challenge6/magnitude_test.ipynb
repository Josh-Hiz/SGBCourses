{
 "cells": [
  {
   "cell_type": "code",
   "execution_count": null,
   "metadata": {},
   "outputs": [],
   "source": [
    "import unittest\n",
    "from unittest import mock\n",
    "import builtins\n",
    "import sys\n",
    "sys.path.append('Challenge6/')\n",
    "# set a global default\n",
    "builtins.first = -9\n",
    "builtins.second = 8\n",
    "\n",
    "import magnitude\n",
    "\n",
    "import importlib\n",
    "\n",
    "class SimpleTestCase(unittest.TestCase):\n",
    "    def test_defs(self):    \n",
    "        defs = [v for v in dir(magnitude) if v[0] != '_']\n",
    "        assert 'larger_magnitude' in defs, f'Definition for larger_magnitude not found'\n",
    "\n",
    "    def correct(self, v_first, v_second):\n",
    "        builtins.first = v_first\n",
    "        builtins.second = v_second\n",
    "        importlib.reload(magnitude)\n",
    "        self.assertEqual(magnitude.larger_magnitude, max(abs(v_first), abs(v_second)))\n",
    "\n",
    "    def test_sample(self):\n",
    "        self.correct(-9, 8)\n",
    "\n",
    "    def test_neg(self):\n",
    "        self.correct(-5, -4)\n",
    "\n",
    "    def test_pos(self):\n",
    "        self.correct(4, 5)\n",
    "\n",
    "    def test_same(self):\n",
    "        self.correct(0, 0)\n",
    "        self.correct(1, 1)\n",
    "        self.correct(-1, -1)\n",
    "\n",
    "if __name__ == '__main__':\n",
    "    unittest.main(argv=['-v'],verbosity=2, exit=False)"
   ]
  }
 ],
 "metadata": {
  "language_info": {
   "name": "python"
  },
  "orig_nbformat": 4
 },
 "nbformat": 4,
 "nbformat_minor": 2
}
