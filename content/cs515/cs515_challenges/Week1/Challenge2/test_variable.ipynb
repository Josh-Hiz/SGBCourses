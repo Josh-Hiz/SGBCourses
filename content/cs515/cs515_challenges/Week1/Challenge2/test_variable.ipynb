{
 "cells": [
  {
   "cell_type": "code",
   "execution_count": null,
   "metadata": {},
   "outputs": [],
   "source": [
    "import unittest\n",
    "import variable\n",
    "\n",
    "import sys\n",
    "sys.path.append('Challenge2/')\n",
    "\n",
    "class SimpleTestCase(unittest.TestCase):\n",
    "    def testOthers(self):\n",
    "        defs = [v for v in dir(variable) if v[0] != '_']\n",
    "        assert 'num_profs' in defs, 'Could not find num_profs definition'\n",
    "        assert 'num_tas' in defs, 'Could not find num_tas definition'\n",
    "        for f in ['num_profs', 'num_tas', 'num_students']:\n",
    "            if f in defs:\n",
    "                defs.remove(f)\n",
    "        assert len(defs) == 0, f'Found extra definitions: {\", \".join(defs)}'\n",
    "        assert variable.num_profs == 1, f'Expected 1 prof, got {variable.num_profs}'\n",
    "        assert variable.num_tas == 2, f'Expected 2 TAs; got {variable.num_tas}'\n",
    "\n",
    "    def testStudents(self):\n",
    "        assert 'num_students' in dir(variable), f'Could not find num_students definition'\n",
    "        assert variable.num_students == 45, f'Expected 45 students; got {variable.num_students}'\n",
    "\n",
    "if __name__ == '__main__':\n",
    "    unittest.main(argv=['-v'],verbosity=2, exit=False)\n",
    "        "
   ]
  }
 ],
 "metadata": {
  "language_info": {
   "name": "python"
  },
  "orig_nbformat": 4
 },
 "nbformat": 4,
 "nbformat_minor": 2
}
