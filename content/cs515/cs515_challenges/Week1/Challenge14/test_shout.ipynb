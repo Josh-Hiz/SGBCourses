{
 "cells": [
  {
   "cell_type": "code",
   "execution_count": null,
   "metadata": {},
   "outputs": [],
   "source": [
    "import unittest, shout\n",
    "import sys\n",
    "sys.path.append('Challenge14/')\n",
    "class ShoutTest(unittest.TestCase):\n",
    "    def test_exists(self):\n",
    "        assert 'exclaim' in dir(shout), \"Couldn't find a definition for 'exclaim'\"\n",
    "    def correct(self, s, n):\n",
    "        self.assertEqual(shout.exclaim(s, n), s + (n * \"!\"))\n",
    "    def test_sample1(self):\n",
    "        self.correct(\"Hey\", 4)\n",
    "    def test_sample2(self):\n",
    "        self.correct(\"Hey\", 0)\n",
    "    def test_sample3(self):\n",
    "        self.correct(\"!\", 2)\n",
    "    def test_sample4(self):\n",
    "        self.correct(\"Ah\", 1)\n",
    "    def test_empty(self):\n",
    "        self.correct(\"\", 0)\n",
    "    def test_empty12(self):\n",
    "        self.correct(\"\", 12)\n",
    "\n",
    "if __name__ == '__main__':\n",
    "    unittest.main(argv=['-v'],verbosity=2, exit=False)"
   ]
  }
 ],
 "metadata": {
  "language_info": {
   "name": "python"
  },
  "orig_nbformat": 4
 },
 "nbformat": 4,
 "nbformat_minor": 2
}
