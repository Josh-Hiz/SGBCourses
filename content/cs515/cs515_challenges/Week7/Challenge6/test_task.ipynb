{
 "cells": [
  {
   "cell_type": "code",
   "execution_count": null,
   "metadata": {},
   "outputs": [],
   "source": [
    "import task\n",
    "import unittest\n",
    "import sys\n",
    "sys.path.append('Challenge6/')\n",
    "class TestNum(unittest.TestCase):\n",
    "    def test_defined(self):\n",
    "        defs = [v for v in dir(task) if v[0] != '_']\n",
    "        assert 'longest_lines' in defs, f'Definition for longest_lines not found'\n",
    "\n",
    "    def correct(self, output, expected):\n",
    "        self.assertEqual(output, expected)\n",
    "    def test_sample(self):\n",
    "        self.correct(list(task.longest_lines('sample.txt')),['cd', 'ef'])\n",
    "    def test_singular(self):\n",
    "        self.correct(list(task.longest_lines('singular.txt')),['12345'])\n",
    "\n",
    "\n",
    "if __name__ == '__main__':\n",
    "    unittest.main(argv=['-v'],verbosity=2, exit=False)"
   ]
  }
 ],
 "metadata": {
  "language_info": {
   "name": "python"
  },
  "orig_nbformat": 4
 },
 "nbformat": 4,
 "nbformat_minor": 2
}
