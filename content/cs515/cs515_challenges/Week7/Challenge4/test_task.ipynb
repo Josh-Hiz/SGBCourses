{
 "cells": [
  {
   "cell_type": "code",
   "execution_count": null,
   "metadata": {},
   "outputs": [],
   "source": [
    "# Try running this test code when you are done\n",
    "import task\n",
    "from task import minimum, maximum\n",
    "\n",
    "# Expected output: 4\n",
    "print(maximum(1,2,3,4))\n",
    "# Expected output: 1\n",
    "print(minimum(1,2,3,4))\n",
    "# Expected output: 1\n",
    "print(minimum(1,2))\n",
    "# These two should produce errors\n",
    "try:\n",
    "    maximum()\n",
    "except:\n",
    "    print(\"Max error detected correctly\")\n",
    "try:\n",
    "    minimum(1)\n",
    "except:\n",
    "    print(\"Min error detected correctly\")"
   ]
  }
 ],
 "metadata": {
  "language_info": {
   "name": "python"
  },
  "orig_nbformat": 4
 },
 "nbformat": 4,
 "nbformat_minor": 2
}
