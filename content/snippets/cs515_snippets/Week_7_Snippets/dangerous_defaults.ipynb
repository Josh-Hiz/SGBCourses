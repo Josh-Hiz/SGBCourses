{
 "cells": [
  {
   "cell_type": "code",
   "execution_count": null,
   "metadata": {},
   "outputs": [],
   "source": [
    "def rev(l, acc=[]):\n",
    "    for x in l:\n",
    "        acc.insert(0, x)\n",
    "        \n",
    "    return acc\n",
    "\n",
    "print(rev([1,2,3]))\n",
    "print(rev(list(\"abc\")))"
   ]
  }
 ],
 "metadata": {
  "language_info": {
   "name": "python"
  },
  "orig_nbformat": 4
 },
 "nbformat": 4,
 "nbformat_minor": 2
}
