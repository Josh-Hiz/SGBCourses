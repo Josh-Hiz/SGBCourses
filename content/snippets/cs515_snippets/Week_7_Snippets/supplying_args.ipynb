{
 "cells": [
  {
   "cell_type": "code",
   "execution_count": null,
   "metadata": {},
   "outputs": [],
   "source": [
    "# DO NOT REFRESH THE KERNEL\n",
    "\n",
    "def f(x, y, *args):\n",
    "    print(f'x is {x}')\n",
    "    print(f'y is {y}')\n",
    "    print(f'*args is {args}')\n",
    "\n",
    "f(*(0,1,2))\n",
    "f(0,1,*[2,3,4])\n",
    "f(0, *[1,2])\n",
    "\n",
    "# These 2 will produce an error, why would that be?\n",
    "f(*\"abc\")\n",
    "f(*[0])"
   ]
  }
 ],
 "metadata": {
  "language_info": {
   "name": "python"
  },
  "orig_nbformat": 4
 },
 "nbformat": 4,
 "nbformat_minor": 2
}
