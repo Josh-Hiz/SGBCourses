{
 "cells": [
  {
   "cell_type": "code",
   "execution_count": null,
   "metadata": {},
   "outputs": [],
   "source": [
    "def rev_nomutate(l, acc=[]):\n",
    "    for x in l:\n",
    "        acc = [x] + acc\n",
    "        \n",
    "    return acc\n",
    "\n",
    "print(rev_nomutate([1,2,3]))\n",
    "print(rev_nomutate(list(\"abc\")))\n",
    "\n",
    "def rev_none(l, acc=None):\n",
    "    if acc is None:\n",
    "        acc = []\n",
    "    \n",
    "    for x in l:\n",
    "        acc.insert(0, x)\n",
    "\n",
    "    return acc\n",
    "\n",
    "print(rev_none([1,2,3]))\n",
    "print(rev_none(list(\"abc\")))\n"
   ]
  }
 ],
 "metadata": {
  "language_info": {
   "name": "python"
  },
  "orig_nbformat": 4
 },
 "nbformat": 4,
 "nbformat_minor": 2
}
