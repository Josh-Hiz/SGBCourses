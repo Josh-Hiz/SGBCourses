{
 "cells": [
  {
   "cell_type": "code",
   "execution_count": null,
   "metadata": {},
   "outputs": [],
   "source": [
    "import unittest, types\n",
    "import task, sys\n",
    "sys.path.append('Challenge19/')\n",
    "\n",
    "def defined(name):\n",
    "    assert name in dir(task), f\"Couldn't find a definition for {name}\"\n",
    "\n",
    "def is_fun(name):\n",
    "    assert isinstance(eval(f\"task.{name}\"), types.FunctionType), f\"Expected {name} to be a function\"\n",
    "\n",
    "class TaskTest(unittest.TestCase):\n",
    "    def test_defined(self):\n",
    "        defined('get_name_length')\n",
    "        is_fun('get_name_length')\n",
    "    def correct(self, first, last):\n",
    "        self.assertEqual(task.get_name_length(first, last), len(first) + len(last))\n",
    "    def test_sample1(self):\n",
    "        self.correct(\"Winnie\", \"Wilson\")\n",
    "    def test_sample2(self):\n",
    "        self.correct(\"Annie\", \"Wai\")\n",
    "    def test_sample3(self):\n",
    "        self.correct(\"Adalbert Gerald\", \"Soosai Raj\")\n",
    "    def test_empty(self):\n",
    "        self.correct(\"\", \"\")"
   ]
  }
 ],
 "metadata": {
  "language_info": {
   "name": "python"
  },
  "orig_nbformat": 4
 },
 "nbformat": 4,
 "nbformat_minor": 2
}
