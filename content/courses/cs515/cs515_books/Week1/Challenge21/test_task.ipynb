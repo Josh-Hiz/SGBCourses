{
 "cells": [
  {
   "cell_type": "code",
   "execution_count": null,
   "metadata": {},
   "outputs": [],
   "source": [
    "import unittest, types\n",
    "import task\n",
    "import sys\n",
    "sys.path.append('Challenge21/')\n",
    "def defined(name):\n",
    "    assert name in dir(task), f\"Couldn't find a definition for {name}\"\n",
    "\n",
    "def is_fun(name):\n",
    "    assert isinstance(eval(f\"task.{name}\"), types.FunctionType), f\"Expected {name} to be a function\"\n",
    "\n",
    "class TaskTest(unittest.TestCase):\n",
    "    def test_defined(self):\n",
    "        defined('char_in_string')\n",
    "        is_fun('char_in_string')\n",
    "    def correct(self, letter, message):\n",
    "        self.assertEqual(task.char_in_string(letter, message), letter in message)\n",
    "    def test_sample1(self):\n",
    "        self.correct('b', 'book')\n",
    "    def test_sample2(self):\n",
    "        self.correct('c', 'book')\n",
    "    def test_empty(self):\n",
    "        self.correct(\"c\", \"\")\n",
    "    def test_dup(self):\n",
    "        self.correct(\"c\", \"cccc\")\n",
    "    def test_late(self):\n",
    "        self.correct(\"c\", \"bookccc\")\n",
    "        \n",
    "if __name__ == '__main__':\n",
    "    unittest.main(argv=['-v'],verbosity=2, exit=False)"
   ]
  }
 ],
 "metadata": {
  "language_info": {
   "name": "python"
  },
  "orig_nbformat": 4
 },
 "nbformat": 4,
 "nbformat_minor": 2
}
