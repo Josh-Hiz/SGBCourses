{
 "cells": [
  {
   "cell_type": "code",
   "execution_count": null,
   "metadata": {},
   "outputs": [],
   "source": [
    "import unittest, triangle\n",
    "import sys\n",
    "sys.path.append('Challenge13/')\n",
    "class TriangleTest(unittest.TestCase):\n",
    "    def test_exists(self):\n",
    "        assert 'triangle_area' in dir(triangle), \"Couldn't find definition for 'triangle_area'\"\n",
    "\n",
    "    def correct(self, base, height):\n",
    "        self.assertEqual(triangle.triangle_area(base, height), base * height / 2)\n",
    "\n",
    "    def test_sample1(self):\n",
    "        self.correct(5, 6)\n",
    "    def test_sample2(self):\n",
    "        self.correct(3, 4)\n",
    "    def test_sample3(self):\n",
    "        self.correct(1, 2)\n",
    "    def test_unit(self):\n",
    "        self.correct(1, 1)\n",
    "    def test_half(self):\n",
    "        self.correct(0.5, 0.5)\n",
    "\n",
    "if __name__ == '__main__':\n",
    "    unittest.main(argv=['-v'],verbosity=2, exit=False)"
   ]
  }
 ],
 "metadata": {
  "language_info": {
   "name": "python"
  },
  "orig_nbformat": 4
 },
 "nbformat": 4,
 "nbformat_minor": 2
}
