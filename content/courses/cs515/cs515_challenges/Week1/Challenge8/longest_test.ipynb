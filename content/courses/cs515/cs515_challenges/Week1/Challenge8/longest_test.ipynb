{
 "cells": [
  {
   "cell_type": "code",
   "execution_count": null,
   "metadata": {},
   "outputs": [],
   "source": [
    "import unittest, builtins, importlib\n",
    "import sys\n",
    "\n",
    "sys.path.append('Challenge8/')\n",
    "\n",
    "builtins.str1 = \"longer\"\n",
    "builtins.str2 = \"short\"\n",
    "\n",
    "import longest\n",
    "\n",
    "class SimpleTestCase(unittest.TestCase):\n",
    "    def test_defs(self):    \n",
    "        defs = [v for v in dir(longest) if v[0] != '_']\n",
    "        assert 'longer_length' in defs, f'Definition for longer_length not found'\n",
    "\n",
    "    def correct(self, v_str1, v_str2):\n",
    "        builtins.str1 = v_str1\n",
    "        builtins.str2 = v_str2\n",
    "        importlib.reload(longest)\n",
    "        self.assertEqual(longest.longer_length, max(len(v_str1), len(v_str2)))\n",
    "\n",
    "    def test_sample1(self):\n",
    "        self.correct('longer', 'short')\n",
    "    \n",
    "    def test_second(self):\n",
    "        self.correct('a', 'bc')\n",
    "\n",
    "    def test_same(self):\n",
    "        self.correct('', '')\n",
    "        self.correct('a', 'a')\n",
    "        self.correct('b', 'a')\n",
    "        self.correct('a', 'b')\n",
    "        self.correct('123', '123')\n",
    "        \n",
    "if __name__ == '__main__':\n",
    "    unittest.main(argv=['-v'],verbosity=2, exit=False)"
   ]
  }
 ],
 "metadata": {
  "language_info": {
   "name": "python"
  },
  "orig_nbformat": 4
 },
 "nbformat": 4,
 "nbformat_minor": 2
}
