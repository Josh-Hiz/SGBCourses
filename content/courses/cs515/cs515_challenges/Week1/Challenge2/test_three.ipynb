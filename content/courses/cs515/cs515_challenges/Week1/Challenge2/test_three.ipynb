{
 "cells": [
  {
   "cell_type": "code",
   "execution_count": null,
   "metadata": {},
   "outputs": [],
   "source": [
    "import unittest\n",
    "\n",
    "# Import the student's factorial function from main.py\n",
    "import three\n",
    "\n",
    "import sys\n",
    "sys.path.append('Challenge2/')\n",
    "\n",
    "class SimpleTestCase(unittest.TestCase):\n",
    "\n",
    "    def test_defs(self):    \n",
    "        defs = [v for v in dir(three) if v[0] != '_']\n",
    "        assert len(defs) == 3, f'Found {len(defs)} definitions, expected 3'\n",
    "\n",
    "    def test_int(self):\n",
    "        defs = [v for v in dir(three) if v[0] != '_']\n",
    "        for d in defs:\n",
    "            v = eval(f'three.{d}')\n",
    "            assert type(v) == int or type(v) == float, f'Expected a number for {d}, but got {v}'\n",
    "\n",
    "if __name__ == '__main__':\n",
    "    unittest.main(argv=['-v'],verbosity=2, exit=False)"
   ]
  }
 ],
 "metadata": {
  "language_info": {
   "name": "python"
  },
  "orig_nbformat": 4
 },
 "nbformat": 4,
 "nbformat_minor": 2
}
