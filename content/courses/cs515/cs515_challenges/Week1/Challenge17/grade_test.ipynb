{
 "cells": [
  {
   "cell_type": "code",
   "execution_count": null,
   "metadata": {},
   "outputs": [],
   "source": [
    "import unittest, grade, types\n",
    "import sys\n",
    "sys.path.append('Challenge17/')\n",
    "class TestGrade(unittest.TestCase):\n",
    "    def test_defined(self):\n",
    "        defs = [v for v in dir(grade) if v[0] != '_']\n",
    "        assert 'is_passing' in defs, f'Definition for is_passing not found'\n",
    "        assert (type(grade.is_passing) == types.FunctionType), 'is_passing must be a function'\n",
    "\n",
    "    def correct(self, pct):\n",
    "        self.assertEqual(grade.is_passing(pct), pct >= 60.0)\n",
    "    def test_sample1(self):\n",
    "        self.correct(85)\n",
    "    def test_sample2(self):\n",
    "        self.correct(25)\n",
    "    def test_sample3(self):\n",
    "        self.correct(1500)\n",
    "    def test_sample4(self):\n",
    "        self.correct(-300)\n",
    "    def test_sample5(self):\n",
    "        self.correct(60)\n",
    "    def test_sample6(self):\n",
    "        self.correct(59.99)\n",
    "    def test_just_barely(self):\n",
    "        self.correct(60.0001)\n",
    "\n",
    "if __name__ == '__main__':\n",
    "    unittest.main(argv=['-v'],verbosity=2, exit=False)"
   ]
  }
 ],
 "metadata": {
  "language_info": {
   "name": "python"
  },
  "orig_nbformat": 4
 },
 "nbformat": 4,
 "nbformat_minor": 2
}
