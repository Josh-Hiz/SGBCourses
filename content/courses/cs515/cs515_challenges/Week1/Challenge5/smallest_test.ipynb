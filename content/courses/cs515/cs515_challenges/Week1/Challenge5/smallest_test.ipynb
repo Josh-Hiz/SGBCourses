{
 "cells": [
  {
   "cell_type": "code",
   "execution_count": null,
   "metadata": {},
   "outputs": [],
   "source": [
    "import unittest\n",
    "import builtins\n",
    "\n",
    "import sys\n",
    "sys.path.append(\"Challenge5/\")\n",
    "\n",
    "# set a global default\n",
    "builtins.a = 0\n",
    "builtins.b = 0\n",
    "builtins.c = 0\n",
    "\n",
    "import smallest\n",
    "\n",
    "import importlib\n",
    "\n",
    "class SimpleTestCase(unittest.TestCase):\n",
    "\n",
    "    def test_defs(self):    \n",
    "        defs = [v for v in dir(smallest) if v[0] != '_']\n",
    "        assert 'smallest' in defs, f'Definition for smallest not found'\n",
    "\n",
    "    def correct(self, v_a, v_b, v_c):\n",
    "        builtins.a = v_a\n",
    "        builtins.b = v_b\n",
    "        builtins.c = v_c\n",
    "        importlib.reload(smallest)\n",
    "        self.assertEqual(smallest.smallest, min(v_a, v_b, v_c))\n",
    "\n",
    "    def test_sample1(self):\n",
    "        self.correct(8, 11, 17)\n",
    "\n",
    "    def test_others(self):\n",
    "        self.correct(12, 5, -1)\n",
    "\n",
    "    def test_same(self):\n",
    "        self.correct(0, 0, 0)\n",
    "        self.correct(1, 1, 1)\n",
    "        self.correct(-1, -1, -1)\n",
    "\n",
    "if __name__ == '__main__':\n",
    "    unittest.main(argv=['-v'],verbosity=2, exit=False)"
   ]
  }
 ],
 "metadata": {
  "language_info": {
   "name": "python"
  },
  "orig_nbformat": 4
 },
 "nbformat": 4,
 "nbformat_minor": 2
}
