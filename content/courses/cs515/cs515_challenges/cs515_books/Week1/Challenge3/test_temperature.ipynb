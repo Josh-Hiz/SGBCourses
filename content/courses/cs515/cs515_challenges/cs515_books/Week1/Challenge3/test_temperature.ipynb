{
 "cells": [
  {
   "cell_type": "code",
   "execution_count": null,
   "metadata": {},
   "outputs": [],
   "source": [
    "import unittest\n",
    "import builtins\n",
    "\n",
    "# set a global default\n",
    "builtins.fahrenheit = 212\n",
    "\n",
    "import temperature\n",
    "\n",
    "import importlib\n",
    "\n",
    "import sys\n",
    "sys.path.append('Challenge3/')\n",
    "\n",
    "class SimpleTestCase(unittest.TestCase):\n",
    "\n",
    "    def test_defs(self):    \n",
    "        defs = [v for v in dir(temperature) if v[0] != '_']\n",
    "        assert 'celsius' in defs, f'Definition for celsius not found'\n",
    "\n",
    "    def test_212(self):\n",
    "        builtins.fahrenheit = 212\n",
    "        importlib.reload(temperature)\n",
    "        self.assertEqual(temperature.celsius, 100.0)\n",
    "\n",
    "    def test_32(self):\n",
    "        builtins.fahrenheit = 32\n",
    "        importlib.reload(temperature)\n",
    "        self.assertEqual(temperature.celsius, 0.0)\n",
    "\n",
    "    def test_bodytemp(self):\n",
    "        builtins.fahrenheit = 98.6\n",
    "        importlib.reload(temperature)\n",
    "        self.assertEqual(temperature.celsius, 37.0)\n",
    "\n",
    "if __name__ == '__main__':\n",
    "    unittest.main(argv=['-v'],verbosity=2, exit=False)"
   ]
  }
 ],
 "metadata": {
  "language_info": {
   "name": "python"
  },
  "orig_nbformat": 4
 },
 "nbformat": 4,
 "nbformat_minor": 2
}
