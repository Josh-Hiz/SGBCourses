{
 "cells": [
  {
   "cell_type": "code",
   "execution_count": null,
   "metadata": {},
   "outputs": [],
   "source": [
    "import unittest, types, fun\n",
    "import sys\n",
    "sys.path.append('Challenge16/')\n",
    "\n",
    "class FunTest(unittest.TestCase):\n",
    "    def test_defined(self):\n",
    "        defs = [v for v in dir(fun) if v[0] != '_']\n",
    "        assert 'is_less_than_10' in defs, f'Definition for is_less_than_10 not found'\n",
    "        assert (type(fun.is_less_than_10) == types.FunctionType), 'is_less_than_10 must be a function'\n",
    "\n",
    "    def correct(self, n):\n",
    "        self.assertEqual(fun.is_less_than_10(n), n < 10)\n",
    "    def test_sample1(self):\n",
    "        self.correct(2)\n",
    "    def test_sample2(self):\n",
    "        self.correct(3)\n",
    "    def test_sample3(self):\n",
    "        self.correct(11)\n",
    "    def test_sample4(self):\n",
    "        self.correct(10)\n",
    "    def test_zero(self):\n",
    "        self.correct(0)\n",
    "\n",
    "if __name__ == '__main__':\n",
    "    unittest.main(argv=['-v'],verbosity=2, exit=False)"
   ]
  }
 ],
 "metadata": {
  "language_info": {
   "name": "python"
  },
  "orig_nbformat": 4
 },
 "nbformat": 4,
 "nbformat_minor": 2
}
