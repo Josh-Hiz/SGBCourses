{
 "cells": [
  {
   "cell_type": "code",
   "execution_count": null,
   "metadata": {},
   "outputs": [],
   "source": [
    "import unittest\n",
    "import builtins\n",
    "import sys \n",
    "sys.path.append('Challenge7')\n",
    "# set a global default\n",
    "builtins.s1 = 'apple'\n",
    "builtins.s2 = 'banana'\n",
    "builtins.s3 = 'orange'\n",
    "\n",
    "import comma\n",
    "\n",
    "import importlib\n",
    "\n",
    "class SimpleTestCase(unittest.TestCase):\n",
    "    def test_defs(self):    \n",
    "        defs = [v for v in dir(comma) if v[0] != '_']\n",
    "        assert 'joined_with_commas' in defs, f'Definition for joined_with_commas not found'\n",
    "\n",
    "    def correct(self, v_s1, v_s2, v_s3):\n",
    "        builtins.s1 = v_s1\n",
    "        builtins.s2 = v_s2\n",
    "        builtins.s3 = v_s3\n",
    "        importlib.reload(comma)\n",
    "        self.assertEqual(comma.joined_with_commas, v_s1 + ',' + v_s2 + ',' + v_s3)\n",
    "\n",
    "    def test_sample1(self):\n",
    "        self.correct('apple', 'banana', 'orange')\n",
    "\n",
    "    def test_sample2(self):\n",
    "        self.correct('1', '2', '3')\n",
    "\n",
    "    def test_sample3(self):\n",
    "        self.correct('red', 'green', 'blue')\n",
    "\n",
    "    def test_commas(self):\n",
    "        self.correct(',', ',', ',')\n",
    "\n",
    "if __name__ == '__main__':\n",
    "    unittest.main(argv=['-v'],verbosity=2, exit=False)"
   ]
  }
 ],
 "metadata": {
  "language_info": {
   "name": "python"
  },
  "orig_nbformat": 4
 },
 "nbformat": 4,
 "nbformat_minor": 2
}
