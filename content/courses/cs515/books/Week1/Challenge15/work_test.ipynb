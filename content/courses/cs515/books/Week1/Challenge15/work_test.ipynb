{
 "cells": [
  {
   "cell_type": "code",
   "execution_count": null,
   "metadata": {},
   "outputs": [],
   "source": [
    "import sys\n",
    "import unittest\n",
    "from unittest import TestCase\n",
    "from unittest.mock import patch\n",
    "import work\n",
    "sys.path.append('Challenge15/')\n",
    "\n",
    "class TestProgram(TestCase):\n",
    "    @patch('builtins.input', side_effect=['8 10'])\n",
    "    def test_is_enough_time(self, mock_input):\n",
    "        expected_output = \"True\\n\"\n",
    "        self.assertEqual(work.main(), expected_output)\n",
    "\n",
    "    @patch('builtins.input', side_effect=['10 8'])\n",
    "    def test_is_not_enough_time(self, mock_input):\n",
    "        expected_output = \"False\\n\"\n",
    "        self.assertEqual(work.main(), expected_output)\n",
    "\n",
    "if __name__ == '__main__':\n",
    "    unittest.main(argv=['-v'],verbosity=2, exit=False)"
   ]
  }
 ],
 "metadata": {
  "language_info": {
   "name": "python"
  },
  "orig_nbformat": 4
 },
 "nbformat": 4,
 "nbformat_minor": 2
}
