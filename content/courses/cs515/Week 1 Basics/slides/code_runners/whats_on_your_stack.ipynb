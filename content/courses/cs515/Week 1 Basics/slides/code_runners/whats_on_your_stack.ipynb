{
 "cells": [
  {
   "cell_type": "code",
   "execution_count": null,
   "metadata": {},
   "outputs": [],
   "source": [
    "def func_a():\n",
    "    func_d()\n",
    "    func_b()\n",
    "    return\n",
    "\n",
    "def func_b():\n",
    "    return\n",
    "\n",
    "def func_c():\n",
    "    func_b()\n",
    "    func_e()\n",
    "    return\n",
    "\n",
    "def func_d():\n",
    "    func_c()\n",
    "    return\n",
    "\n",
    "def func_e():\n",
    "    print(\"HERE!\")\n",
    "    return\n",
    "\n",
    "func_a()"
   ]
  }
 ],
 "metadata": {
  "language_info": {
   "name": "python"
  },
  "orig_nbformat": 4
 },
 "nbformat": 4,
 "nbformat_minor": 2
}
