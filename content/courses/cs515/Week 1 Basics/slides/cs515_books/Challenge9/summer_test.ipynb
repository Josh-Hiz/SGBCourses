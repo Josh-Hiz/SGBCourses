{
 "cells": [
  {
   "cell_type": "code",
   "execution_count": null,
   "metadata": {},
   "outputs": [],
   "source": [
    "import unittest, builtins, importlib\n",
    "import sys \n",
    "sys.path.append('Challenge9/')\n",
    "builtins.numstr1 = '0'\n",
    "builtins.numstr2 = '1'\n",
    "\n",
    "import summer\n",
    "\n",
    "class SimpleTestCase(unittest.TestCase):\n",
    "    def test_defs(self):    \n",
    "        defs = [v for v in dir(summer) if v[0] != '_']\n",
    "        assert 'sum_of_ints' in defs, f'Definition for sum_of_ints not found'\n",
    "\n",
    "    def correct(self, v_numstr1, v_numstr2):\n",
    "        builtins.numstr1 = v_numstr1\n",
    "        builtins.numstr2 = v_numstr2\n",
    "        importlib.reload(summer)\n",
    "        self.assertEqual(summer.sum_of_ints, int(v_numstr1) + int(v_numstr2))\n",
    "\n",
    "    def test_sample1(self):\n",
    "        self.correct('8', '11')\n",
    "\n",
    "    def test_sample2(self):\n",
    "        self.correct('1', '2')\n",
    "\n",
    "    def test_sample3(self):\n",
    "        self.correct('100000', '9')\n",
    "\n",
    "    def test_zeros(self):\n",
    "        self.correct('0', '0')\n",
    "\n",
    "    def test_neg(self):\n",
    "        self.correct('-1', '-1')\n",
    "\n",
    "if __name__ == '__main__':\n",
    "    unittest.main(argv=['-v'],verbosity=2, exit=False)"
   ]
  }
 ],
 "metadata": {
  "language_info": {
   "name": "python"
  },
  "orig_nbformat": 4
 },
 "nbformat": 4,
 "nbformat_minor": 2
}
