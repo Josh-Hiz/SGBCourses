{
 "cells": [
  {
   "cell_type": "code",
   "execution_count": null,
   "metadata": {},
   "outputs": [],
   "source": [
    "import unittest\n",
    "import builtins\n",
    "\n",
    "# set a global default\n",
    "builtins.x = 8\n",
    "builtins.y = 11\n",
    "\n",
    "import smaller\n",
    "\n",
    "import importlib\n",
    "\n",
    "import sys\n",
    "sys.path.append('Challenge4/')\n",
    "\n",
    "class SimpleTestCase(unittest.TestCase):\n",
    "\n",
    "    def test_defs(self):    \n",
    "        defs = [v for v in dir(smaller) if v[0] != '_']\n",
    "        assert 'smaller' in defs, f'Definition for smaller not found'\n",
    "\n",
    "    def correct(self, v_x, v_y):\n",
    "        builtins.x = v_x\n",
    "        builtins.y = v_y\n",
    "        importlib.reload(smaller)\n",
    "        self.assertEqual(smaller.smaller, min(v_x, v_y))\n",
    "\n",
    "    def test_sample1(self):\n",
    "        self.correct(8, 11)\n",
    "\n",
    "    def test_sample2(self):\n",
    "        self.correct(12, 5)\n",
    "\n",
    "    def test_same(self):\n",
    "        self.correct(0, 0)\n",
    "        self.correct(1, 1)\n",
    "        self.correct(-1, -1)\n",
    "\n",
    "if __name__ == '__main__':\n",
    "    unittest.main(argv=['-v'],verbosity=2, exit=False)"
   ]
  }
 ],
 "metadata": {
  "language_info": {
   "name": "python"
  },
  "orig_nbformat": 4
 },
 "nbformat": 4,
 "nbformat_minor": 2
}
