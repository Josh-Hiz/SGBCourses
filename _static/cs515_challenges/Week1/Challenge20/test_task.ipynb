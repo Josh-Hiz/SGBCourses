{
 "cells": [
  {
   "cell_type": "code",
   "execution_count": null,
   "metadata": {},
   "outputs": [],
   "source": [
    "import unittest, types\n",
    "import task\n",
    "import sys\n",
    "\n",
    "sys.path.append('Challenge20/')\n",
    "\n",
    "def defined(name):\n",
    "    assert name in dir(task), f\"Couldn't find a definition for {name}\"\n",
    "\n",
    "def is_fun(name):\n",
    "    assert isinstance(eval(f\"task.{name}\"), types.FunctionType), f\"Expected {name} to be a function\"\n",
    "\n",
    "class TaskTest(unittest.TestCase):\n",
    "    def test_defined(self):\n",
    "        defined('compare_strings')\n",
    "        is_fun('compare_strings')\n",
    "    def correct(self, first, second):\n",
    "        self.assertEqual(task.compare_strings(first, second), first == second)\n",
    "    def test_sample1(self):\n",
    "        self.correct(\"red\", \"blue\")\n",
    "    def test_sample2(self):\n",
    "        self.correct(\"red\", \"red\")\n",
    "    def test_sample3(self):\n",
    "        self.correct(\"red\", \"redder\")\n",
    "    def test_blue(self):\n",
    "        self.correct(\"blue\", \"blue\")\n",
    "    def test_empty(self):\n",
    "        self.correct(\"\", \"\")\n",
    "        \n",
    "\n",
    "if __name__ == '__main__':\n",
    "    unittest.main(argv=['-v'],verbosity=2, exit=False)"
   ]
  }
 ],
 "metadata": {
  "language_info": {
   "name": "python"
  },
  "orig_nbformat": 4
 },
 "nbformat": 4,
 "nbformat_minor": 2
}
