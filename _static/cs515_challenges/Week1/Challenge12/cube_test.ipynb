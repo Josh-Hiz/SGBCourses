{
 "cells": [
  {
   "cell_type": "code",
   "execution_count": null,
   "metadata": {},
   "outputs": [],
   "source": [
    "import unittest\n",
    "\n",
    "import cube\n",
    "\n",
    "import sys\n",
    "\n",
    "sys.path.append('Challenge12/')\n",
    "\n",
    "class CubeTest(unittest.TestCase):\n",
    "    def test_exists(self):\n",
    "        assert 'cube' in dir(cube), \"Couldn't find a definition for 'cube'\"\n",
    "    \n",
    "    def correct(self, v_n):\n",
    "        self.assertEqual(cube.cube(v_n), v_n ** 3)\n",
    "\n",
    "    def test_sample1(self):\n",
    "        self.correct(8)\n",
    "\n",
    "    def test_sample2(self):\n",
    "        self.correct(1)\n",
    "\n",
    "    def test_sample3(self):\n",
    "        self.correct(-2)\n",
    "\n",
    "    def test_sample4(self):\n",
    "        self.correct(3)\n",
    "\n",
    "    def test_zero(self):\n",
    "        self.correct(0)\n",
    "\n",
    "if __name__ == '__main__':\n",
    "    unittest.main(argv=['-v'],verbosity=2, exit=False)"
   ]
  }
 ],
 "metadata": {
  "language_info": {
   "name": "python"
  },
  "orig_nbformat": 4
 },
 "nbformat": 4,
 "nbformat_minor": 2
}
