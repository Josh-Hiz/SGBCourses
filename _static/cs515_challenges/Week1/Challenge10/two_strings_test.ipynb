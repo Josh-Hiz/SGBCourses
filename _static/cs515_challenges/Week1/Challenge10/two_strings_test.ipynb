{
 "cells": [
  {
   "cell_type": "code",
   "execution_count": null,
   "metadata": {},
   "outputs": [],
   "source": [
    "import sys\n",
    "import unittest\n",
    "from unittest.mock import patch\n",
    "import two_strings\n",
    "from io import StringIO\n",
    "\n",
    "sys.path.append('Challenge10/')\n",
    "\n",
    "class SimpleTestCase(unittest.TestCase):\n",
    "    def test_defs(self):    \n",
    "        defs = [v for v in dir(two_strings) if v[0] != '_']\n",
    "        assert 'str1' in defs, f'Definition for str1 not found'\n",
    "        assert 'str2' in defs, f'Definition for str2 not found'\n",
    "        assert 'combined' in defs, f'Definition for combined not found'\n",
    "    \n",
    "    def test_inputs_outputs(self):\n",
    "        new_input_1 = lambda : 'a'\n",
    "        new_input_2 = lambda : 'b'\n",
    "        new_locals = {'input_1': new_input_1,'input_2': new_input_2}\n",
    "        exec(open('two_strings.py').read(), globals(), new_locals)\n",
    "        self.assertEqual(new_locals['combined'], 'a,b')\n",
    "        \n",
    "    \n",
    "if __name__ == '__main__':\n",
    "    unittest.main(argv=['-v'],verbosity=2, exit=True)"
   ]
  }
 ],
 "metadata": {
  "language_info": {
   "name": "python"
  },
  "orig_nbformat": 4
 },
 "nbformat": 4,
 "nbformat_minor": 2
}
