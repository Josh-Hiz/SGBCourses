{
 "cells": [
  {
   "cell_type": "code",
   "execution_count": null,
   "metadata": {},
   "outputs": [],
   "source": [
    "import unittest, num, types\n",
    "import sys\n",
    "sys.path.append('Challenge18/')\n",
    "class TestNum(unittest.TestCase):\n",
    "    def test_defined(self):\n",
    "        defs = [v for v in dir(num) if v[0] != '_']\n",
    "        assert 'get_num_type' in defs, f'Definition for get_num_type not found'\n",
    "        assert (type(num.get_num_type) == types.FunctionType), 'get_num_type must be a function'\n",
    "\n",
    "    def correct(self, n):\n",
    "        if n == 0:\n",
    "            descr = \"zero\"\n",
    "        else:\n",
    "            if n < 0:\n",
    "                sign = \"negative\"\n",
    "            else:\n",
    "                sign = \"positive\"\n",
    "            \n",
    "            if n % 2 == 0:\n",
    "                parity = \"even\"\n",
    "            else:\n",
    "                parity = \"odd\"\n",
    "            \n",
    "            descr = f'{sign} and {parity}'\n",
    "        self.assertEqual(num.get_num_type(n), descr)\n",
    "    def test_sample(self):\n",
    "        self.correct(11)\n",
    "    def test_zero(self):\n",
    "        self.correct(0)\n",
    "    def test_poseven(self):\n",
    "        self.correct(12)\n",
    "    def test_negodd(self):\n",
    "        self.correct(-1)\n",
    "    def test_negeven(self):\n",
    "        self.correct(-5000)\n",
    "\n",
    "if __name__ == '__main__':\n",
    "    unittest.main(argv=['-v'],verbosity=2, exit=False)"
   ]
  }
 ],
 "metadata": {
  "language_info": {
   "name": "python"
  },
  "orig_nbformat": 4
 },
 "nbformat": 4,
 "nbformat_minor": 2
}
