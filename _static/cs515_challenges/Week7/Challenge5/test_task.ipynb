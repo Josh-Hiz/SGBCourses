{
 "cells": [
  {
   "cell_type": "code",
   "execution_count": null,
   "metadata": {},
   "outputs": [],
   "source": [
    "import unittest\n",
    "import sys\n",
    "sys.path.append('Challenge5/')\n",
    "\n",
    "class SimpleTestCase(unittest.TestCase):\n",
    "    # This will show the output and check for definitions\n",
    "    def test_defs_and_output(self):\n",
    "        import task\n",
    "        defs = [v for v in dir(task) if v[0] != '_']\n",
    "        assert 'mergesort' in defs, f'Definition for mergesort not found'        \n",
    "\n",
    "if __name__ == '__main__':\n",
    "    unittest.main(argv=['-v'],verbosity=2, exit=False)"
   ]
  }
 ],
 "metadata": {
  "language_info": {
   "name": "python"
  },
  "orig_nbformat": 4
 },
 "nbformat": 4,
 "nbformat_minor": 2
}
